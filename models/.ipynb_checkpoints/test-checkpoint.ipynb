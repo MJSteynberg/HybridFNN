{
 "cells": [
  {
   "cell_type": "code",
   "execution_count": 1,
   "id": "ecb3a6d4-e226-4c65-908a-7a1ddb00c5b6",
   "metadata": {
    "tags": []
   },
   "outputs": [
    {
     "name": "stdout",
     "output_type": "stream",
     "text": [
      "Iteration 0, Residual: 0.0002913163334596902\n",
      "Iteration 500, Residual: 11072.826171875\n",
      "Iteration 1000, Residual: 2927069757440.0\n",
      "Iteration 1500, Residual: inf\n",
      "Iteration 2000, Residual: inf\n",
      "Iteration 2500, Residual: nan\n",
      "Iteration 3000, Residual: nan\n",
      "Iteration 3500, Residual: nan\n",
      "Iteration 4000, Residual: nan\n",
      "Iteration 4500, Residual: nan\n",
      "Iteration 5000, Residual: nan\n",
      "Iteration 5500, Residual: nan\n",
      "Iteration 6000, Residual: nan\n",
      "Iteration 6500, Residual: nan\n",
      "Iteration 7000, Residual: nan\n",
      "Iteration 7500, Residual: nan\n",
      "Iteration 8000, Residual: nan\n",
      "Iteration 8500, Residual: nan\n",
      "Iteration 9000, Residual: nan\n",
      "Iteration 9500, Residual: nan\n"
     ]
    }
   ],
   "source": [
    "from physical import PoissonEquation\n",
    "import torch\n",
    "\n",
    "if __name__ == \"__main__\":\n",
    "    device = torch.device('cuda' if torch.cuda.is_available() else 'cpu')\n",
    "    L = 1.0\n",
    "    N = 50\n",
    "    num_gaussians = 5\n",
    "    f = torch.rand((N, N), device=device)\n",
    "    solver = PoissonEquation(device, L, N, num_gaussians, omega = 1e-3)\n",
    "    solution = solver(f)\n",
    "\n",
    "    # Uncomment for visualization if desired\n",
    "    # import matplotlib.pyplot as plt\n",
    "    # plt.imshow(solution.detach().cpu().numpy(), cmap='hot', interpolation='nearest')\n",
    "    # plt.colorbar()\n",
    "    # plt.title('Solution to the Poisson Equation')\n",
    "    # plt.show()"
   ]
  },
  {
   "cell_type": "code",
   "execution_count": null,
   "id": "b78e1f86-10ee-407c-a8fd-17eeed5100ec",
   "metadata": {},
   "outputs": [],
   "source": []
  },
  {
   "cell_type": "code",
   "execution_count": null,
   "id": "553fd3b7-8e9a-415f-8a3c-e463206d9071",
   "metadata": {},
   "outputs": [],
   "source": []
  }
 ],
 "metadata": {
  "kernelspec": {
   "display_name": "Python [conda env:pytorch-2.2.0]",
   "language": "python",
   "name": "conda-env-pytorch-2.2.0-py"
  },
  "language_info": {
   "codemirror_mode": {
    "name": "ipython",
    "version": 3
   },
   "file_extension": ".py",
   "mimetype": "text/x-python",
   "name": "python",
   "nbconvert_exporter": "python",
   "pygments_lexer": "ipython3",
   "version": "3.12.1"
  }
 },
 "nbformat": 4,
 "nbformat_minor": 5
}
